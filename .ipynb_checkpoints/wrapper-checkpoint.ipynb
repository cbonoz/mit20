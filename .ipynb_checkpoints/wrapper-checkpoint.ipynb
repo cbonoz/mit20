{
 "cells": [
  {
   "cell_type": "code",
   "execution_count": 149,
   "metadata": {},
   "outputs": [
    {
     "name": "stdout",
     "output_type": "stream",
     "text": [
      "ready\n"
     ]
    }
   ],
   "source": [
    "import pandas as pd\n",
    "import numpy as np\n",
    "import seaborn as sns\n",
    "import matplotlib.pyplot as plt\n",
    "import re\n",
    "import random\n",
    "from sklearn.svm import LinearSVC\n",
    "from sklearn.neighbors import KNeighborsClassifier\n",
    "from sklearn.neural_network import MLPClassifier\n",
    "from imblearn.ensemble import BalancedRandomForestClassifier\n",
    "from sklearn.multiclass import OneVsRestClassifier\n",
    "from sklearn.svm import SVC\n",
    "\n",
    "from imblearn.datasets import make_imbalance\n",
    "from imblearn.under_sampling import NearMiss\n",
    "from imblearn.pipeline import make_pipeline\n",
    "from sklearn.utils import resample\n",
    "\n",
    "from sklearn.ensemble import ExtraTreesClassifier, RandomForestClassifier\n",
    "from sklearn.datasets import make_classification\n",
    "from sklearn.multiclass import OneVsRestClassifier\n",
    "from xgboost import XGBClassifier\n",
    "from sklearn.preprocessing import MultiLabelBinarizer\n",
    "\n",
    "MAX_ROWS = 10000 # None # 10000\n",
    "VISUALIZE = False\n",
    "RANDOM_STATE = 42\n",
    "print('ready')"
   ]
  },
  {
   "cell_type": "code",
   "execution_count": 150,
   "metadata": {},
   "outputs": [],
   "source": [
    "def make_readable(label):\n",
    "    return re.sub(\"([a-z])([A-Z])\",\"\\g<1> \\g<2>\",label)"
   ]
  },
  {
   "cell_type": "code",
   "execution_count": 151,
   "metadata": {},
   "outputs": [],
   "source": [
    "# https://elitedatascience.com/imbalanced-classes\n",
    "def downsample(X_train, y_train):\n",
    "    X_train['target'] = y_train\n",
    "    df = X_train\n",
    "    print(X_train.info())\n",
    "    # Separate majority and minority classes\n",
    "    df_majority = df[df.target==0]\n",
    "    df_minority = df[df.target!=0]\n",
    "\n",
    "    # Downsample majority class\n",
    "    df_majority_downsampled = resample(df_majority, \n",
    "                                     replace=False,    # sample without replacement\n",
    "                                     n_samples=len(df_minority.index),     # to match minority class\n",
    "                                     random_state=123) # reproducible results\n",
    "\n",
    "    # Combine minority class with downsampled majority class\n",
    "    df_downsampled = pd.concat([df_majority_downsampled, df_minority])\n",
    "\n",
    "    # Display new class counts\n",
    "    print('downsampled', df_downsampled['target'].value_counts())\n",
    "    \n",
    "    y_train = X_train['target']\n",
    "    X_train = X_train.drop(['target'], axis=1)\n",
    "    return X_train, y_train\n",
    "    "
   ]
  },
  {
   "cell_type": "markdown",
   "metadata": {},
   "source": [
    "**read_data_small** is the function to read in the small dataset about 30 MB"
   ]
  },
  {
   "cell_type": "code",
   "execution_count": 152,
   "metadata": {},
   "outputs": [],
   "source": [
    "def read_data_small(max_rows):\n",
    "    X_train = pd.read_csv(\"data_small/X_train_small.csv\")\n",
    "    X_test = pd.read_csv(\"data_small/X_test_small.csv\")\n",
    "    y_train = np.asarray(pd.read_csv(\"data_small/y_train_small.csv\", header=None)[0])\n",
    "    if max_rows:\n",
    "        # Take random subset of rows\n",
    "        \n",
    "        rows = np.random.choice(np.arange(len(X_train)), max_rows, False)\n",
    "        print(X_train.shape, X_test.shape, len(y_train))\n",
    "        print('random rows', rows)\n",
    "        return X_train.iloc[rows], X_test, y_train[rows]\n",
    "#         return X_train[:max_rows], X_test[:max_rows], y_train[:max_rows]\n",
    "    return X_train, X_test, y_train"
   ]
  },
  {
   "cell_type": "markdown",
   "metadata": {},
   "source": [
    "**read_data_big** is the function to read in the big dataset about 100 MB"
   ]
  },
  {
   "cell_type": "code",
   "execution_count": 153,
   "metadata": {},
   "outputs": [],
   "source": [
    "def read_data_big(max_rows):\n",
    "    X_train = pd.read_csv(\"data_big/X_train_big.csv\")\n",
    "    X_test = pd.read_csv(\"data_big/X_test_big.csv\")\n",
    "    y_train = np.asarray(pd.read_csv(\"data_big/y_train_big.csv\", header=None)[0])\n",
    "    return X_train, X_test, y_train"
   ]
  },
  {
   "cell_type": "markdown",
   "metadata": {},
   "source": [
    "**read_data** is the function to read in the whole dataset about 1.5 G"
   ]
  },
  {
   "cell_type": "code",
   "execution_count": 154,
   "metadata": {},
   "outputs": [],
   "source": [
    "def read_data(max_rows):\n",
    "    X_train = pd.read_csv(\"data/X_train.csv\")\n",
    "    X_test = pd.read_csv(\"data/X_test.csv\")\n",
    "    y_train = np.asarray(pd.read_csv(\"data/y_train.csv\", header=None)[0])\n",
    "    return X_train, X_test, y_train"
   ]
  },
  {
   "cell_type": "code",
   "execution_count": 155,
   "metadata": {},
   "outputs": [],
   "source": [
    "def read_data_wrapper(max_rows=None):\n",
    "    # return one of: read_data, read_data_big, read_data_wrapper\n",
    "    return read_data_big(max_rows)"
   ]
  },
  {
   "cell_type": "markdown",
   "metadata": {},
   "source": [
    "# Insert Your Code Here"
   ]
  },
  {
   "cell_type": "markdown",
   "metadata": {},
   "source": [
    "**detect_spoofying** is the function for training the classifier and classify the results. \n",
    "\n",
    "Here we provide an simple example."
   ]
  },
  {
   "cell_type": "code",
   "execution_count": 156,
   "metadata": {},
   "outputs": [
    {
     "name": "stdout",
     "output_type": "stream",
     "text": [
      "<class 'pandas.core.frame.DataFrame'>\n",
      "RangeIndex: 1542706 entries, 0 to 1542705\n",
      "Data columns (total 29 columns):\n",
      "timestamp        1542706 non-null int64\n",
      "type             1542706 non-null object\n",
      "obId             1542706 non-null object\n",
      "member           1542706 non-null object\n",
      "user             1542706 non-null object\n",
      "endUserRef       1542706 non-null object\n",
      "price            1542706 non-null float64\n",
      "volume           1542706 non-null float64\n",
      "operation        1490138 non-null object\n",
      "isBid            1490138 non-null object\n",
      "orderId          1490138 non-null object\n",
      "source           1490138 non-null object\n",
      "tradeId          52568 non-null object\n",
      "bidOrderId       52568 non-null object\n",
      "askOrderId       52568 non-null object\n",
      "isBuyer          52568 non-null object\n",
      "isAggressor      52568 non-null object\n",
      "bestBid          1542703 non-null float64\n",
      "bestBidVolume    1542703 non-null float64\n",
      "bestAsk          1542684 non-null float64\n",
      "bestAskVolume    1542684 non-null float64\n",
      "lv2Bid           1542678 non-null float64\n",
      "lv2BidVolume     1542678 non-null float64\n",
      "lv2Ask           1542675 non-null float64\n",
      "lv2AskVolume     1542675 non-null float64\n",
      "lv3Bid           1542672 non-null float64\n",
      "lv3BidVolume     1542672 non-null float64\n",
      "lv3Ask           1542636 non-null float64\n",
      "lv3AskVolume     1542636 non-null float64\n",
      "dtypes: float64(14), int64(1), object(14)\n",
      "memory usage: 341.3+ MB\n",
      "None\n"
     ]
    }
   ],
   "source": [
    "X_train, X_test, y_train = read_data_wrapper(MAX_ROWS)\n",
    "print(X_train.info())"
   ]
  },
  {
   "cell_type": "code",
   "execution_count": 157,
   "metadata": {},
   "outputs": [
    {
     "name": "stdout",
     "output_type": "stream",
     "text": [
      "323\n",
      "77\n"
     ]
    }
   ],
   "source": [
    "# X_train.info()\n",
    "print(len(set(X_train['user'])))\n",
    "# set(X_train['type'])\n",
    "print(len(set(X_train['member'])))"
   ]
  },
  {
   "cell_type": "code",
   "execution_count": 158,
   "metadata": {},
   "outputs": [],
   "source": [
    "NUMERIC_COLS = [\"price\",\"volume\",\"bestBid\",\"bestAsk\",'bestBidVolume',\n",
    "                    'bestAskVolume','lv2Bid', 'lv2BidVolume','lv2Ask', \n",
    "                    'lv2AskVolume', 'lv3Bid', 'lv3BidVolume', 'lv3Ask',\n",
    "                    'lv3AskVolume']\n",
    "ENCODED_COLS = ['member', 'user']\n"
   ]
  },
  {
   "cell_type": "code",
   "execution_count": null,
   "metadata": {},
   "outputs": [],
   "source": []
  },
  {
   "cell_type": "code",
   "execution_count": 159,
   "metadata": {},
   "outputs": [],
   "source": [
    "### import libraries here ###\n",
    "from sklearn.linear_model import LogisticRegression\n",
    "from sklearn.preprocessing import scale\n",
    "from sklearn.model_selection import cross_validate\n",
    "\n",
    "### code classifier here ###\n",
    "# Feature engineering\n",
    "def format_data(df):\n",
    "\n",
    "    cols = []\n",
    "    cols.extend(NUMERIC_COLS)\n",
    "    cols.extend(ENCODED_COLS)\n",
    "    \n",
    "    # append numberical columns\n",
    "    rst = df.loc[:, cols]\n",
    "    \n",
    "    # encode the binaries\n",
    "    rst[\"isBid\"] = df.isBid*1\n",
    "    rst[\"isBuyer\"] = df.isBuyer*1\n",
    "    rst[\"isAggressor\"] = df.isAggressor*1\n",
    "    rst[\"type\"] = (df.type == \"ORDER\")*1\n",
    "    rst[\"source\"] = (df.source==\"USER\")*1\n",
    "\n",
    "    # parse the order id data\n",
    "    rst[\"orderId\"] = df.orderId.str.split('-').str[-1]\n",
    "    rst[\"tradeId\"] = df.tradeId.str.split('-').str[-1]\n",
    "    rst[\"bidOrderId\"] = df.bidOrderId.str.split('-').str[-1]\n",
    "    rst[\"askOrderId\"] = df.askOrderId.str.split('-').str[-1]\n",
    "    \n",
    "    \n",
    "    # encode the multiple label data\n",
    "    tmp_operation = pd.DataFrame(pd.get_dummies(df.operation, prefix=\"op\"), columns=df.operation.unique()[:-1])\n",
    "    rst = pd.concat([rst, tmp_operation], axis=1)\n",
    "#     tmp_endUserRef = pd.DataFrame(pd.get_dummies(df.endUserRef, prefix=\"enduser\"), columns=df.endUserRef.unique()[:-1])\n",
    "#     rst = pd.concat([rst, tmp_endUserRef], axis=1)\n",
    "    \n",
    "    # also feel free to add more columns inferred from data\n",
    "    # smartly engineered features can be very useful to improve the classification results\n",
    "    rst[\"timeSinceLastTrade\"] = X_train[[\"timestamp\",\"endUserRef\"]].groupby(\"endUserRef\").diff()\n",
    "\n",
    "    for col in ENCODED_COLS:\n",
    "        # https://stackoverflow.com/questions/37292872/how-can-i-one-hot-encode-in-python\n",
    "        # one hot encode\n",
    "        # Get one hot encoding of columns B\n",
    "        one_hot = pd.get_dummies(df[col], prefix=col)\n",
    "        # Drop column B as it is now encoded\n",
    "        rst = rst.drop(col, axis = 1)\n",
    "        # Join the encoded df\n",
    "        rst = rst.join(one_hot)\n",
    "    print('data shape', rst.shape)\n",
    "    print('cols', len(rst.columns.values))\n",
    "    return rst\n",
    "\n",
    "def get_scaled_data(X_train, X_test, y_train):\n",
    "    \n",
    "    X_train, y_train = downsample(X_train, y_train)\n",
    "        \n",
    "    # clean up the data\n",
    "#     df = df[~df.index.duplicated()]\n",
    "    X_clean = format_data(pd.concat([X_train, X_test]))\n",
    "    for c in NUMERIC_COLS:\n",
    "        X_clean[c]= X_clean[c].fillna(X_clean[c].mean())\n",
    "#     X_clean.fillna(method='ffill', inplace=True)\n",
    "    X_clean = X_clean.fillna(-1)\n",
    "#     print(X_clean.mean())\n",
    "    # X_clean.fillna(-1)\n",
    "    \n",
    "    feature_columns = X_clean.columns.values\n",
    "\n",
    "    X_train_clean = X_clean.iloc[:X_train.shape[0],:]\n",
    "    X_test_clean = X_clean.iloc[X_train.shape[0]:,:]\n",
    "    X_train_clean_scaled = scale(X_train_clean)\n",
    "    X_test_clean_scaled = scale(X_test_clean)\n",
    "    return X_train_clean_scaled, X_test_clean_scaled, y_train, feature_columns\n",
    "\n",
    "# Classification algorithm\n",
    "def detect_spoofying(X_train, X_test, y_train):\n",
    "    X_train_clean_scaled, X_test_clean_scaled, y_train, feature_columns = get_scaled_data(X_train, X_test, y_train)\n",
    "    \n",
    "#     clf = ExtraTreesClassifier() # .89\n",
    "#     clf = MLPClassifier(solver='lbfgs', alpha=1e-5, hidden_layer_sizes=(15), random_state=1)\n",
    "#     clf = LinearSVC(random_state=0, tol=1e-5, multi_class=\"crammer_singer\")\n",
    "#     clf = KNeighborsClassifier(n_neighbors=3)\n",
    "\n",
    "    clf = OneVsRestClassifier(XGBClassifier())\n",
    "\n",
    "#     clf = BalancedRandomForestClassifier(max_depth=2, random_state=0)\n",
    "#     clf = make_pipeline(NearMiss(version=2),\n",
    "#                          )\n",
    "#     clf = OneVsRestClassifier(SVC(kernel='linear', probability=True, class_weight='balanced'))\n",
    "\n",
    "\n",
    "\n",
    "\n",
    "    # fit classifier\n",
    "#     clf = LogisticRegression(random_state=0, class_weight='balanced')\n",
    "    clf.fit(X_train_clean_scaled, y_train)\n",
    "    # print('features', list(zip(feature_columns, clf.feature_importances_)))\n",
    "    y_train_prob_pred = clf.predict_proba(X_train_clean_scaled)\n",
    "    y_test_prob_pred = clf.predict_proba(X_test_clean_scaled)\n",
    "    \n",
    "    return y_train_prob_pred, y_test_prob_pred"
   ]
  },
  {
   "cell_type": "code",
   "execution_count": null,
   "metadata": {},
   "outputs": [],
   "source": []
  },
  {
   "cell_type": "code",
   "execution_count": null,
   "metadata": {},
   "outputs": [
    {
     "name": "stdout",
     "output_type": "stream",
     "text": [
      "<class 'pandas.core.frame.DataFrame'>\n",
      "RangeIndex: 1542706 entries, 0 to 1542705\n",
      "Data columns (total 30 columns):\n",
      "timestamp        1542706 non-null int64\n",
      "type             1542706 non-null object\n",
      "obId             1542706 non-null object\n",
      "member           1542706 non-null object\n",
      "user             1542706 non-null object\n",
      "endUserRef       1542706 non-null object\n",
      "price            1542706 non-null float64\n",
      "volume           1542706 non-null float64\n",
      "operation        1490138 non-null object\n",
      "isBid            1490138 non-null object\n",
      "orderId          1490138 non-null object\n",
      "source           1490138 non-null object\n",
      "tradeId          52568 non-null object\n",
      "bidOrderId       52568 non-null object\n",
      "askOrderId       52568 non-null object\n",
      "isBuyer          52568 non-null object\n",
      "isAggressor      52568 non-null object\n",
      "bestBid          1542703 non-null float64\n",
      "bestBidVolume    1542703 non-null float64\n",
      "bestAsk          1542684 non-null float64\n",
      "bestAskVolume    1542684 non-null float64\n",
      "lv2Bid           1542678 non-null float64\n",
      "lv2BidVolume     1542678 non-null float64\n",
      "lv2Ask           1542675 non-null float64\n",
      "lv2AskVolume     1542675 non-null float64\n",
      "lv3Bid           1542672 non-null float64\n",
      "lv3BidVolume     1542672 non-null float64\n",
      "lv3Ask           1542636 non-null float64\n",
      "lv3AskVolume     1542636 non-null float64\n",
      "target           1542706 non-null int64\n",
      "dtypes: float64(14), int64(2), object(14)\n",
      "memory usage: 353.1+ MB\n",
      "None\n",
      "downsampled 0    3460\n",
      "2    2241\n",
      "1    1219\n",
      "Name: target, dtype: int64\n",
      "data shape (6170826, 427)\n",
      "cols 427\n"
     ]
    }
   ],
   "source": [
    "if True:\n",
    "    X_train, X_test, y_train = read_data_wrapper(MAX_ROWS)\n",
    "    X_train_clean_scaled, X_test_clean_scaled, y_train, feature_columns = get_scaled_data(X_train, X_test, y_train)\n",
    "\n",
    "    clf = BalancedRandomForestClassifier(max_depth=2, random_state=0)\n",
    "\n",
    "    # fit classifier\n",
    "    #     clf = LogisticRegression(random_state=0, class_weight='balanced')\n",
    "    clf.fit(X_train_clean_scaled, y_train)\n",
    "    print('features', list(zip(feature_columns, clf.feature_importances_)))\n"
   ]
  },
  {
   "cell_type": "code",
   "execution_count": null,
   "metadata": {},
   "outputs": [],
   "source": [
    "if VISUALIZE:\n",
    "    names = feature_columns\n",
    "    values = clf.feature_importances_\n",
    "    zipped = zip(names, values)\n",
    "    res = sorted(zipped, key = lambda x: x[1], reverse=True)\n",
    "\n",
    "    n = 50\n",
    "    names = [make_readable(i[0]) for i in res[:n]]\n",
    "    values = [i[1] for i in res[:n]]\n",
    "\n",
    "    plt.figure(figsize=(16, 9))\n",
    "    sns.barplot(values, names)\n",
    "\n",
    "    plt.title('Feature Importance')\n",
    "    plt.ylabel('Importance')\n",
    "    plt.xticks(rotation=90)\n",
    "    plt.show()"
   ]
  },
  {
   "cell_type": "code",
   "execution_count": null,
   "metadata": {},
   "outputs": [],
   "source": [
    "X_num = X_train.loc[:, NUMERIC_COLS]"
   ]
  },
  {
   "cell_type": "code",
   "execution_count": null,
   "metadata": {},
   "outputs": [],
   "source": [
    "if VISUALIZE:\n",
    "    X_num.describe()\n",
    "    # set(y_train)\n",
    "    y_categories = pd.get_dummies(pd.DataFrame(y_train).replace({0: '0', 1: '1', 2: '2'}),prefix='Category')\n",
    "    # print(y_categories.loc[y_categories['0_Category 1'] == 1])\n",
    "    corr_df = X_num.join(y_categories)\n",
    "    corr = corr_df.corr()\n",
    "    plt.figure(figsize = (16,9))\n",
    "    ax = sns.heatmap(corr, annot=True, linewidths=.5, cmap=\"YlGnBu\")"
   ]
  },
  {
   "cell_type": "markdown",
   "metadata": {},
   "source": [
    "**score** is the function that we use to compare the results. An example is provided with scoring the predictions for the training dataset. True labels for the testing data set will be supplied to score the predictions for testing dataset."
   ]
  },
  {
   "cell_type": "markdown",
   "metadata": {},
   "source": [
    "Score is based on cohen's kappa measurement. https://en.wikipedia.org/wiki/Cohen%27s_kappa"
   ]
  },
  {
   "cell_type": "code",
   "execution_count": null,
   "metadata": {},
   "outputs": [],
   "source": [
    "from sklearn.metrics import cohen_kappa_score\n",
    "\n",
    "def score(y_pred, y_true):\n",
    "    \"\"\"\n",
    "    y_pred: a numpy 4d array of probabilities of point assigned to each label\n",
    "    y_true: a numpy array of true labels\n",
    "    \"\"\"\n",
    "    y_pred_label = np.argmax(y_pred, axis=1)\n",
    "    return cohen_kappa_score(y_pred_label, y_true)"
   ]
  },
  {
   "cell_type": "markdown",
   "metadata": {},
   "source": [
    "### Optional: k-fold cross validation"
   ]
  },
  {
   "cell_type": "code",
   "execution_count": null,
   "metadata": {},
   "outputs": [],
   "source": [
    "### optional: examples of k-fold cross validation ###\n",
    "# k-fold cross validation can help you compare the classification models\n",
    "if False:\n",
    "    from sklearn.model_selection import KFold\n",
    "    n = 5\n",
    "    kf = KFold(n_splits = n)\n",
    "    X_train, X_test, y_train = read_data_wrapper(MAX_ROWS)\n",
    "    kf.get_n_splits(X_train)\n",
    "    print(kf)\n",
    "    kf_scores = pd.DataFrame(np.zeros([n,2]), columns=[\"train score\", \"test score\"])\n",
    "    rowindex = 0\n",
    "    i = 0\n",
    "    for train_index, test_index in kf.split(X_train):\n",
    "        i+=1\n",
    "        print('Step', i, \"TRAIN:\", train_index, \"TEST:\", test_index)\n",
    "        print(X_train.index)\n",
    "        print(y_train)\n",
    "        X_train_kf, X_test_kf = X_train.iloc[train_index], X_train.iloc[test_index]\n",
    "        y_train_kf, y_test_kf = y_train[train_index], y_train[test_index]\n",
    "        y_train_prob_pred_kf, y_test_prob_pred_kf = detect_spoofying(X_train_kf, X_test_kf, y_train_kf)\n",
    "        score_train_kf = score(y_train_prob_pred_kf, y_train_kf)\n",
    "        score_test_kf = score(y_test_prob_pred_kf, y_test_kf)\n",
    "        kf_scores.iloc[rowindex, 0] = score_train_kf\n",
    "        kf_scores.iloc[rowindex, 1] = score_test_kf\n",
    "        rowindex += 1\n",
    "    \n",
    "    print('scores')\n",
    "    print(kf_scores)"
   ]
  },
  {
   "cell_type": "code",
   "execution_count": null,
   "metadata": {},
   "outputs": [],
   "source": []
  },
  {
   "cell_type": "markdown",
   "metadata": {},
   "source": [
    "**wrapper** is the main function to read in unzipped data and output a score for evaluation. In addition, the function returns the y probability matrix (both train and test) for grading. More details about submitting format are outlined below."
   ]
  },
  {
   "cell_type": "code",
   "execution_count": null,
   "metadata": {},
   "outputs": [],
   "source": [
    "def wrapper():\n",
    "    # read in data\n",
    "    X_train, X_test, y_train = read_data_wrapper(MAX_ROWS)\n",
    "    # or if you have the computational power to work with the big data set, \n",
    "    # you can comment out the read_data_samll line and uncomment the following read_data_big\n",
    "    # X_train, X_test, y_train = read_data_big()\n",
    "    \n",
    "    # process the data, train classifier and output probability matrix\n",
    "    y_train_prob_pred, y_test_prob_pred = detect_spoofying(X_train, X_test, y_train)\n",
    "    \n",
    "    # score the predictions\n",
    "    print(len(y_train_prob_pred), len(y_train))\n",
    "    score_train = score(y_train_prob_pred, y_train)\n",
    "    # score_test = score(y_test_prob_pred, y_test)\n",
    "    \n",
    "    # return the scores\n",
    "    return score_train, y_train_prob_pred, y_test_prob_pred"
   ]
  },
  {
   "cell_type": "markdown",
   "metadata": {},
   "source": [
    "Call function wrapper:"
   ]
  },
  {
   "cell_type": "code",
   "execution_count": null,
   "metadata": {},
   "outputs": [],
   "source": [
    "score_train, y_train_prob_pred, y_test_prob_pred = wrapper()"
   ]
  },
  {
   "cell_type": "markdown",
   "metadata": {},
   "source": [
    "Score for training data set is:"
   ]
  },
  {
   "cell_type": "code",
   "execution_count": null,
   "metadata": {},
   "outputs": [],
   "source": [
    "score_train"
   ]
  },
  {
   "cell_type": "markdown",
   "metadata": {},
   "source": [
    "### Submission Format\n",
    "\n",
    "The classifier function wrote should return a 4d nparray with 4 columns. The columns are corresponding to the class labels: 0, 1, 2, 3. Please see examples below."
   ]
  },
  {
   "cell_type": "code",
   "execution_count": null,
   "metadata": {},
   "outputs": [],
   "source": [
    "y_train_prob_pred"
   ]
  },
  {
   "cell_type": "code",
   "execution_count": null,
   "metadata": {},
   "outputs": [],
   "source": [
    "y_test_prob_pred"
   ]
  },
  {
   "cell_type": "markdown",
   "metadata": {},
   "source": [
    "### Write test results to csv files"
   ]
  },
  {
   "cell_type": "markdown",
   "metadata": {},
   "source": [
    "Please rename your file to indicate which data set you are working with. \n",
    "\n",
    "- If you are using the small dataset: *y_train_prob_pred_small.csv* and *y_test_prob_pred_small.csv*\n",
    "- If you are using the small dataset: *y_train_prob_pred_big.csv* and *y_test_prob_pred_big.csv*\n",
    "- If you are using the original dataset: *y_train_prob_pred.csv* and *y_test_prob_pred.csv*"
   ]
  },
  {
   "cell_type": "code",
   "execution_count": null,
   "metadata": {},
   "outputs": [],
   "source": [
    "train_pred = pd.DataFrame(y_train_prob_pred)\n",
    "test_pred = pd.DataFrame(y_test_prob_pred)\n",
    "\n",
    "train_pred.to_csv(\"y_train_prob_pred.csv\")\n",
    "test_pred.round(0).to_csv(\"y_test_prob_pred.csv\")\n"
   ]
  },
  {
   "cell_type": "code",
   "execution_count": null,
   "metadata": {},
   "outputs": [],
   "source": []
  }
 ],
 "metadata": {
  "kernelspec": {
   "display_name": "Python 3",
   "language": "python",
   "name": "python3"
  },
  "language_info": {
   "codemirror_mode": {
    "name": "ipython",
    "version": 3
   },
   "file_extension": ".py",
   "mimetype": "text/x-python",
   "name": "python",
   "nbconvert_exporter": "python",
   "pygments_lexer": "ipython3",
   "version": "3.7.6"
  }
 },
 "nbformat": 4,
 "nbformat_minor": 2
}
